{
 "cells": [
  {
   "cell_type": "markdown",
   "metadata": {},
   "source": [
    "# Model exploration"
   ]
  },
  {
   "cell_type": "code",
   "execution_count": 1,
   "metadata": {},
   "outputs": [],
   "source": [
    "import pickle\n",
    "\n",
    "with open('../data/processed/sentences.pkl', 'rb') as f:\n",
    "    sentences = pickle.load(f)"
   ]
  },
  {
   "cell_type": "code",
   "execution_count": 2,
   "metadata": {},
   "outputs": [
    {
     "data": {
      "text/plain": [
       "[['64', '64', '5', '29', '29', '46', '46'],\n",
       " ['48', '70', '68', '68', '32'],\n",
       " ['30', '30', '41', '23', '90', '92']]"
      ]
     },
     "execution_count": 2,
     "metadata": {},
     "output_type": "execute_result"
    }
   ],
   "source": [
    "sentences[:3]"
   ]
  },
  {
   "cell_type": "code",
   "execution_count": 3,
   "metadata": {},
   "outputs": [],
   "source": [
    "import gensim\n",
    "\n",
    "# Load Word2Vec model\n",
    "model = gensim.models.KeyedVectors.load_word2vec_format('../models/hotelcluster2vec.bin', binary=True)"
   ]
  },
  {
   "cell_type": "code",
   "execution_count": 4,
   "metadata": {},
   "outputs": [
    {
     "name": "stderr",
     "output_type": "stream",
     "text": [
      "/anaconda3/envs/hotel-recommender/lib/python3.7/site-packages/ipykernel_launcher.py:3: DeprecationWarning: Call to deprecated `wv` (Attribute will be removed in 4.0.0, use self instead).\n",
      "  This is separate from the ipykernel package so we can avoid doing imports until\n"
     ]
    },
    {
     "data": {
      "text/plain": [
       "array([-0.00649394,  0.06922907, -0.29539013, -0.2641328 , -0.1991498 ,\n",
       "       -0.11594498, -0.06717971, -0.16170062,  0.16617617,  0.19554147,\n",
       "        0.05661304,  0.04968927,  0.16985886,  0.10521507,  0.0133047 ,\n",
       "        0.10782003, -0.176134  , -0.14533667,  0.02221457,  0.16718966,\n",
       "       -0.14086956,  0.0997072 ,  0.16816753, -0.07356744, -0.01617721,\n",
       "       -0.04198999, -0.38213956, -0.05940245,  0.21050262,  0.04823041,\n",
       "       -0.18202454,  0.23389383, -0.19728738,  0.01057918,  0.15081525,\n",
       "        0.24117623,  0.0508992 ,  0.21955504, -0.02906157,  0.23775358,\n",
       "        0.03658393,  0.1151661 ,  0.00161595, -0.04193174, -0.03649392,\n",
       "       -0.03000313, -0.00253451,  0.09632929, -0.06644487,  0.14588079,\n",
       "       -0.05140767, -0.35850784, -0.10335819, -0.1239066 ,  0.20961097,\n",
       "        0.23532428, -0.0178061 ,  0.15312757,  0.27816102, -0.20656368,\n",
       "       -0.0823165 , -0.00499744,  0.23092271,  0.02904828,  0.04590677,\n",
       "        0.15412349, -0.22188112, -0.12920254,  0.22729445, -0.30713007,\n",
       "       -0.02390601,  0.15741432, -0.27353963,  0.3074668 ,  0.02020259,\n",
       "       -0.22335918, -0.10679068, -0.06806149,  0.20875506,  0.06479688,\n",
       "       -0.06556211, -0.01191038,  0.09878416,  0.09072461,  0.03301822,\n",
       "       -0.13296814, -0.07100073,  0.0709149 ,  0.02030722,  0.10415554,\n",
       "       -0.03738907,  0.22554895,  0.11162849,  0.11029928,  0.0282673 ,\n",
       "        0.08363111,  0.29177615,  0.13556847, -0.04619727, -0.01535071],\n",
       "      dtype=float32)"
      ]
     },
     "execution_count": 4,
     "metadata": {},
     "output_type": "execute_result"
    }
   ],
   "source": [
    "# Show embedding vector for a specific hotel cluster\n",
    "\n",
    "model.wv['5']"
   ]
  },
  {
   "cell_type": "code",
   "execution_count": 5,
   "metadata": {},
   "outputs": [
    {
     "name": "stderr",
     "output_type": "stream",
     "text": [
      "/anaconda3/envs/hotel-recommender/lib/python3.7/site-packages/ipykernel_launcher.py:3: DeprecationWarning: Call to deprecated `wv` (Attribute will be removed in 4.0.0, use self instead).\n",
      "  This is separate from the ipykernel package so we can avoid doing imports until\n",
      "/anaconda3/envs/hotel-recommender/lib/python3.7/site-packages/gensim/matutils.py:737: FutureWarning: Conversion of the second argument of issubdtype from `int` to `np.signedinteger` is deprecated. In future, it will be treated as `np.int64 == np.dtype(int).type`.\n",
      "  if np.issubdtype(vec.dtype, np.int):\n"
     ]
    },
    {
     "data": {
      "text/plain": [
       "[('29', 0.4838941693305969),\n",
       " ('11', 0.4406141936779022),\n",
       " ('62', 0.4371561110019684),\n",
       " ('30', 0.4337916970252991),\n",
       " ('85', 0.42100080847740173)]"
      ]
     },
     "execution_count": 5,
     "metadata": {},
     "output_type": "execute_result"
    }
   ],
   "source": [
    "# Show the 5 most \"similar\" hotel clusters\n",
    "\n",
    "model.wv.most_similar('5')[:5]"
   ]
  },
  {
   "cell_type": "code",
   "execution_count": null,
   "metadata": {},
   "outputs": [],
   "source": []
  }
 ],
 "metadata": {
  "kernelspec": {
   "display_name": "Python 3",
   "language": "python",
   "name": "python3"
  },
  "language_info": {
   "codemirror_mode": {
    "name": "ipython",
    "version": 3
   },
   "file_extension": ".py",
   "mimetype": "text/x-python",
   "name": "python",
   "nbconvert_exporter": "python",
   "pygments_lexer": "ipython3",
   "version": "3.7.2"
  }
 },
 "nbformat": 4,
 "nbformat_minor": 2
}
